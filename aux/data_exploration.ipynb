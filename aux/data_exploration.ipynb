{
 "cells": [
  {
   "cell_type": "markdown",
   "metadata": {},
   "source": [
    "# Data Exploration"
   ]
  },
  {
   "cell_type": "markdown",
   "metadata": {},
   "source": [
    "Loading the dataset..."
   ]
  },
  {
   "cell_type": "code",
   "execution_count": 45,
   "metadata": {},
   "outputs": [],
   "source": [
    "import pickle\n",
    "import pipeline_library as pl\n",
    "import pandas as pd\n",
    "import numpy as np"
   ]
  },
  {
   "cell_type": "code",
   "execution_count": 46,
   "metadata": {},
   "outputs": [],
   "source": [
    "with open('lcs_pickle', 'rb') as file:\n",
    "    lcs = pickle.load(file)"
   ]
  },
  {
   "cell_type": "markdown",
   "metadata": {},
   "source": [
    "Filtering out observations with a prediction beyond 1 January 2017 because accurate outcome variables are unavailable for these observations."
   ]
  },
  {
   "cell_type": "code",
   "execution_count": 47,
   "metadata": {},
   "outputs": [],
   "source": [
    "lcs = lcs[lcs.pred_date <= pd.to_datetime('2017/01/01')]"
   ]
  },
  {
   "cell_type": "markdown",
   "metadata": {},
   "source": [
    "Finding the percentable of observatoins that did not renew in the next period across the entire dataset."
   ]
  },
  {
   "cell_type": "code",
   "execution_count": 48,
   "metadata": {},
   "outputs": [
    {
     "data": {
      "text/plain": [
       "0.273386762930455"
      ]
     },
     "execution_count": 48,
     "metadata": {},
     "output_type": "execute_result"
    }
   ],
   "source": [
    "np.mean(lcs.no_renew_nextpd)"
   ]
  },
  {
   "cell_type": "markdown",
   "metadata": {},
   "source": [
    "Comparing non-renewal across different wards."
   ]
  },
  {
   "cell_type": "code",
   "execution_count": 58,
   "metadata": {},
   "outputs": [
    {
     "data": {
      "text/plain": [
       "latitude                                        -0.017628\n",
       "longitude                                        0.029247\n",
       "n_licenses                                      -0.177613\n",
       "pct_canceled                                     0.160034\n",
       "pct_cndtl_approval                              -0.020418\n",
       "pct_revoked                                      0.022346\n",
       "no_renew_nextpd                                  1.000000\n",
       "Paid employees for pay period ending March 12   -0.032406\n",
       "Number of establishments                        -0.030968\n",
       "Annual payroll                                  -0.032618\n",
       "White alone                                     -0.055303\n",
       "Black/AfAmer alone                               0.053875\n",
       "AmInd/Alaskn alone                               0.002337\n",
       "Asian alone                                     -0.012474\n",
       "HI alone                                        -0.000895\n",
       "Some other race alone                           -0.007278\n",
       "Total 2+ races                                  -0.003855\n",
       "Hispanic or Latino                              -0.008687\n",
       "Median household income (1999 dollars)          -0.035251\n",
       "Income below poverty level                       0.041669\n",
       "Less than high school graduate                   0.006591\n",
       "High school graduate (includes equivalency)     -0.003485\n",
       "Some college or associate's degree               0.022207\n",
       "Bachelor's degree                               -0.013513\n",
       "Graduate or professional degree                 -0.008343\n",
       "monthavg_last6                                  -0.010101\n",
       "avg_weekday_rides_last6                         -0.009971\n",
       "MedianValuePerSqfeet_Zip                        -0.032028\n",
       "GDP_billion_dollars                             -0.024932\n",
       "GDP_growth                                       0.001010\n",
       "unemployment_rate                                0.010232\n",
       "Name: no_renew_nextpd, dtype: float64"
      ]
     },
     "execution_count": 58,
     "metadata": {},
     "output_type": "execute_result"
    }
   ],
   "source": [
    " pl.pw_correlate(lcs).no_renew_nextpd"
   ]
  }
 ],
 "metadata": {
  "kernelspec": {
   "display_name": "Python 3",
   "language": "python",
   "name": "python3"
  },
  "language_info": {
   "codemirror_mode": {
    "name": "ipython",
    "version": 3
   },
   "file_extension": ".py",
   "mimetype": "text/x-python",
   "name": "python",
   "nbconvert_exporter": "python",
   "pygments_lexer": "ipython3",
   "version": "3.7.3"
  }
 },
 "nbformat": 4,
 "nbformat_minor": 2
}
